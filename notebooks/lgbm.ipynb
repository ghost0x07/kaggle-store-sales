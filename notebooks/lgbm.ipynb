{
 "cells": [
  {
   "cell_type": "code",
   "execution_count": 1,
   "metadata": {},
   "outputs": [],
   "source": [
    "%load_ext dotenv\n",
    "%dotenv"
   ]
  },
  {
   "cell_type": "markdown",
   "metadata": {},
   "source": [
    "## Imports"
   ]
  },
  {
   "cell_type": "code",
   "execution_count": 2,
   "metadata": {},
   "outputs": [],
   "source": [
    "import pandas as pd\n",
    "import lightgbm as lgbm\n",
    "import os\n",
    "from sklearn.model_selection import train_test_split\n",
    "import gc\n"
   ]
  },
  {
   "cell_type": "markdown",
   "metadata": {},
   "source": [
    "## Config"
   ]
  },
  {
   "cell_type": "code",
   "execution_count": 3,
   "metadata": {},
   "outputs": [],
   "source": [
    "loc_train = os.getenv(\"LOC_PRE\") + \"/train.csv\"\n",
    "loc_test = os.getenv(\"LOC_PRE\") + \"/test.csv\"\n"
   ]
  },
  {
   "cell_type": "markdown",
   "metadata": {},
   "source": [
    "## Loading Data"
   ]
  },
  {
   "cell_type": "code",
   "execution_count": 4,
   "metadata": {},
   "outputs": [
    {
     "data": {
      "text/html": [
       "<div>\n",
       "<style scoped>\n",
       "    .dataframe tbody tr th:only-of-type {\n",
       "        vertical-align: middle;\n",
       "    }\n",
       "\n",
       "    .dataframe tbody tr th {\n",
       "        vertical-align: top;\n",
       "    }\n",
       "\n",
       "    .dataframe thead th {\n",
       "        text-align: right;\n",
       "    }\n",
       "</style>\n",
       "<table border=\"1\" class=\"dataframe\">\n",
       "  <thead>\n",
       "    <tr style=\"text-align: right;\">\n",
       "      <th></th>\n",
       "      <th>sales</th>\n",
       "      <th>store_nbr</th>\n",
       "      <th>family</th>\n",
       "      <th>onpromotion</th>\n",
       "      <th>year</th>\n",
       "      <th>month</th>\n",
       "      <th>day</th>\n",
       "    </tr>\n",
       "    <tr>\n",
       "      <th>id</th>\n",
       "      <th></th>\n",
       "      <th></th>\n",
       "      <th></th>\n",
       "      <th></th>\n",
       "      <th></th>\n",
       "      <th></th>\n",
       "      <th></th>\n",
       "    </tr>\n",
       "  </thead>\n",
       "  <tbody>\n",
       "    <tr>\n",
       "      <th>0</th>\n",
       "      <td>0.0</td>\n",
       "      <td>1</td>\n",
       "      <td>AUTOMOTIVE</td>\n",
       "      <td>0</td>\n",
       "      <td>2013</td>\n",
       "      <td>1</td>\n",
       "      <td>1</td>\n",
       "    </tr>\n",
       "    <tr>\n",
       "      <th>1</th>\n",
       "      <td>0.0</td>\n",
       "      <td>1</td>\n",
       "      <td>BABY CARE</td>\n",
       "      <td>0</td>\n",
       "      <td>2013</td>\n",
       "      <td>1</td>\n",
       "      <td>1</td>\n",
       "    </tr>\n",
       "    <tr>\n",
       "      <th>2</th>\n",
       "      <td>0.0</td>\n",
       "      <td>1</td>\n",
       "      <td>BEAUTY</td>\n",
       "      <td>0</td>\n",
       "      <td>2013</td>\n",
       "      <td>1</td>\n",
       "      <td>1</td>\n",
       "    </tr>\n",
       "    <tr>\n",
       "      <th>3</th>\n",
       "      <td>0.0</td>\n",
       "      <td>1</td>\n",
       "      <td>BEVERAGES</td>\n",
       "      <td>0</td>\n",
       "      <td>2013</td>\n",
       "      <td>1</td>\n",
       "      <td>1</td>\n",
       "    </tr>\n",
       "    <tr>\n",
       "      <th>4</th>\n",
       "      <td>0.0</td>\n",
       "      <td>1</td>\n",
       "      <td>BOOKS</td>\n",
       "      <td>0</td>\n",
       "      <td>2013</td>\n",
       "      <td>1</td>\n",
       "      <td>1</td>\n",
       "    </tr>\n",
       "  </tbody>\n",
       "</table>\n",
       "</div>"
      ],
      "text/plain": [
       "    sales  store_nbr      family  onpromotion  year  month  day\n",
       "id                                                             \n",
       "0     0.0          1  AUTOMOTIVE            0  2013      1    1\n",
       "1     0.0          1   BABY CARE            0  2013      1    1\n",
       "2     0.0          1      BEAUTY            0  2013      1    1\n",
       "3     0.0          1   BEVERAGES            0  2013      1    1\n",
       "4     0.0          1       BOOKS            0  2013      1    1"
      ]
     },
     "execution_count": 4,
     "metadata": {},
     "output_type": "execute_result"
    }
   ],
   "source": [
    "df_train = pd.read_csv(loc_train,index_col=[0])\n",
    "df_train.head()"
   ]
  },
  {
   "cell_type": "code",
   "execution_count": 5,
   "metadata": {},
   "outputs": [
    {
     "data": {
      "text/html": [
       "<div>\n",
       "<style scoped>\n",
       "    .dataframe tbody tr th:only-of-type {\n",
       "        vertical-align: middle;\n",
       "    }\n",
       "\n",
       "    .dataframe tbody tr th {\n",
       "        vertical-align: top;\n",
       "    }\n",
       "\n",
       "    .dataframe thead th {\n",
       "        text-align: right;\n",
       "    }\n",
       "</style>\n",
       "<table border=\"1\" class=\"dataframe\">\n",
       "  <thead>\n",
       "    <tr style=\"text-align: right;\">\n",
       "      <th></th>\n",
       "      <th>store_nbr</th>\n",
       "      <th>family</th>\n",
       "      <th>onpromotion</th>\n",
       "      <th>year</th>\n",
       "      <th>month</th>\n",
       "      <th>day</th>\n",
       "    </tr>\n",
       "    <tr>\n",
       "      <th>id</th>\n",
       "      <th></th>\n",
       "      <th></th>\n",
       "      <th></th>\n",
       "      <th></th>\n",
       "      <th></th>\n",
       "      <th></th>\n",
       "    </tr>\n",
       "  </thead>\n",
       "  <tbody>\n",
       "    <tr>\n",
       "      <th>3000888</th>\n",
       "      <td>1</td>\n",
       "      <td>AUTOMOTIVE</td>\n",
       "      <td>0</td>\n",
       "      <td>2017</td>\n",
       "      <td>8</td>\n",
       "      <td>16</td>\n",
       "    </tr>\n",
       "    <tr>\n",
       "      <th>3000889</th>\n",
       "      <td>1</td>\n",
       "      <td>BABY CARE</td>\n",
       "      <td>0</td>\n",
       "      <td>2017</td>\n",
       "      <td>8</td>\n",
       "      <td>16</td>\n",
       "    </tr>\n",
       "    <tr>\n",
       "      <th>3000890</th>\n",
       "      <td>1</td>\n",
       "      <td>BEAUTY</td>\n",
       "      <td>2</td>\n",
       "      <td>2017</td>\n",
       "      <td>8</td>\n",
       "      <td>16</td>\n",
       "    </tr>\n",
       "    <tr>\n",
       "      <th>3000891</th>\n",
       "      <td>1</td>\n",
       "      <td>BEVERAGES</td>\n",
       "      <td>20</td>\n",
       "      <td>2017</td>\n",
       "      <td>8</td>\n",
       "      <td>16</td>\n",
       "    </tr>\n",
       "    <tr>\n",
       "      <th>3000892</th>\n",
       "      <td>1</td>\n",
       "      <td>BOOKS</td>\n",
       "      <td>0</td>\n",
       "      <td>2017</td>\n",
       "      <td>8</td>\n",
       "      <td>16</td>\n",
       "    </tr>\n",
       "  </tbody>\n",
       "</table>\n",
       "</div>"
      ],
      "text/plain": [
       "         store_nbr      family  onpromotion  year  month  day\n",
       "id                                                           \n",
       "3000888          1  AUTOMOTIVE            0  2017      8   16\n",
       "3000889          1   BABY CARE            0  2017      8   16\n",
       "3000890          1      BEAUTY            2  2017      8   16\n",
       "3000891          1   BEVERAGES           20  2017      8   16\n",
       "3000892          1       BOOKS            0  2017      8   16"
      ]
     },
     "execution_count": 5,
     "metadata": {},
     "output_type": "execute_result"
    }
   ],
   "source": [
    "df_test = pd.read_csv(loc_test,index_col=[0])\n",
    "df_test.head()"
   ]
  },
  {
   "cell_type": "code",
   "execution_count": 6,
   "metadata": {},
   "outputs": [],
   "source": [
    "for dset in [df_train,df_test]:\n",
    "    dset[\"family\"] = dset[\"family\"].astype(\"category\")"
   ]
  },
  {
   "cell_type": "markdown",
   "metadata": {},
   "source": [
    "## Splitting to Train/Val set"
   ]
  },
  {
   "cell_type": "code",
   "execution_count": 7,
   "metadata": {},
   "outputs": [
    {
     "data": {
      "text/plain": [
       "id\n",
       "0    0.0\n",
       "1    0.0\n",
       "2    0.0\n",
       "Name: sales, dtype: float64"
      ]
     },
     "execution_count": 7,
     "metadata": {},
     "output_type": "execute_result"
    }
   ],
   "source": [
    "y = df_train.pop(\"sales\")\n",
    "y.head(3)"
   ]
  },
  {
   "cell_type": "code",
   "execution_count": 8,
   "metadata": {},
   "outputs": [
    {
     "data": {
      "text/html": [
       "<div>\n",
       "<style scoped>\n",
       "    .dataframe tbody tr th:only-of-type {\n",
       "        vertical-align: middle;\n",
       "    }\n",
       "\n",
       "    .dataframe tbody tr th {\n",
       "        vertical-align: top;\n",
       "    }\n",
       "\n",
       "    .dataframe thead th {\n",
       "        text-align: right;\n",
       "    }\n",
       "</style>\n",
       "<table border=\"1\" class=\"dataframe\">\n",
       "  <thead>\n",
       "    <tr style=\"text-align: right;\">\n",
       "      <th></th>\n",
       "      <th>store_nbr</th>\n",
       "      <th>family</th>\n",
       "      <th>onpromotion</th>\n",
       "      <th>year</th>\n",
       "      <th>month</th>\n",
       "      <th>day</th>\n",
       "    </tr>\n",
       "    <tr>\n",
       "      <th>id</th>\n",
       "      <th></th>\n",
       "      <th></th>\n",
       "      <th></th>\n",
       "      <th></th>\n",
       "      <th></th>\n",
       "      <th></th>\n",
       "    </tr>\n",
       "  </thead>\n",
       "  <tbody>\n",
       "    <tr>\n",
       "      <th>0</th>\n",
       "      <td>1</td>\n",
       "      <td>AUTOMOTIVE</td>\n",
       "      <td>0</td>\n",
       "      <td>2013</td>\n",
       "      <td>1</td>\n",
       "      <td>1</td>\n",
       "    </tr>\n",
       "    <tr>\n",
       "      <th>1</th>\n",
       "      <td>1</td>\n",
       "      <td>BABY CARE</td>\n",
       "      <td>0</td>\n",
       "      <td>2013</td>\n",
       "      <td>1</td>\n",
       "      <td>1</td>\n",
       "    </tr>\n",
       "    <tr>\n",
       "      <th>2</th>\n",
       "      <td>1</td>\n",
       "      <td>BEAUTY</td>\n",
       "      <td>0</td>\n",
       "      <td>2013</td>\n",
       "      <td>1</td>\n",
       "      <td>1</td>\n",
       "    </tr>\n",
       "  </tbody>\n",
       "</table>\n",
       "</div>"
      ],
      "text/plain": [
       "    store_nbr      family  onpromotion  year  month  day\n",
       "id                                                      \n",
       "0           1  AUTOMOTIVE            0  2013      1    1\n",
       "1           1   BABY CARE            0  2013      1    1\n",
       "2           1      BEAUTY            0  2013      1    1"
      ]
     },
     "execution_count": 8,
     "metadata": {},
     "output_type": "execute_result"
    }
   ],
   "source": [
    "X = df_train\n",
    "# Have to see if this is useful or not\n",
    "del df_train\n",
    "gc.collect()\n",
    "X.head(3)"
   ]
  },
  {
   "cell_type": "code",
   "execution_count": 9,
   "metadata": {},
   "outputs": [
    {
     "name": "stdout",
     "output_type": "stream",
     "text": [
      "(2100621, 6) (900267, 6)\n"
     ]
    }
   ],
   "source": [
    "X_train,X_val,y_train,y_val = train_test_split(X,y,random_state=42,train_size=0.7)\n",
    "print(X_train.shape,X_val.shape)"
   ]
  },
  {
   "cell_type": "code",
   "execution_count": 10,
   "metadata": {},
   "outputs": [
    {
     "data": {
      "text/plain": [
       "0"
      ]
     },
     "execution_count": 10,
     "metadata": {},
     "output_type": "execute_result"
    }
   ],
   "source": [
    "lgbm_train = lgbm.Dataset(X_train,label=y_train)\n",
    "del X_train,y_train\n",
    "lgbm_val = lgbm.Dataset(X_val,label=y_val)\n",
    "del X_val,y_val\n",
    "gc.collect()"
   ]
  },
  {
   "cell_type": "markdown",
   "metadata": {},
   "source": [
    "## Creating and Training the model"
   ]
  },
  {
   "cell_type": "code",
   "execution_count": 11,
   "metadata": {},
   "outputs": [],
   "source": [
    "params = {\n",
    "\n",
    "}"
   ]
  },
  {
   "cell_type": "code",
   "execution_count": 12,
   "metadata": {},
   "outputs": [
    {
     "name": "stdout",
     "output_type": "stream",
     "text": [
      "[LightGBM] [Warning] Auto-choosing row-wise multi-threading, the overhead of testing was 0.012839 seconds.\n",
      "You can set `force_row_wise=true` to remove the overhead.\n",
      "And if memory is not enough, you can set `force_col_wise=true`.\n",
      "[LightGBM] [Info] Total Bins 346\n",
      "[LightGBM] [Info] Number of data points in the train set: 2100621, number of used features: 6\n",
      "[LightGBM] [Info] Start training from score 357.594217\n",
      "[1]\ttraining's l2: 1.04016e+06\tvalid_1's l2: 1.05349e+06\n",
      "[2]\ttraining's l2: 901874\tvalid_1's l2: 913960\n",
      "[3]\ttraining's l2: 789729\tvalid_1's l2: 800603\n",
      "[4]\ttraining's l2: 698426\tvalid_1's l2: 708072\n"
     ]
    },
    {
     "name": "stderr",
     "output_type": "stream",
     "text": [
      "/mnt/f/repos/kaggle-store-sales/.venv/lib/python3.8/site-packages/lightgbm/basic.py:1780: UserWarning: Overriding the parameters from Reference Dataset.\n",
      "  _log_warning('Overriding the parameters from Reference Dataset.')\n",
      "/mnt/f/repos/kaggle-store-sales/.venv/lib/python3.8/site-packages/lightgbm/basic.py:1513: UserWarning: categorical_column in param dict is overridden.\n",
      "  _log_warning(f'{cat_alias} in param dict is overridden.')\n"
     ]
    },
    {
     "name": "stdout",
     "output_type": "stream",
     "text": [
      "[5]\ttraining's l2: 622404\tvalid_1's l2: 631477\n",
      "[6]\ttraining's l2: 560726\tvalid_1's l2: 568958\n",
      "[7]\ttraining's l2: 509810\tvalid_1's l2: 517410\n",
      "[8]\ttraining's l2: 467998\tvalid_1's l2: 475231\n",
      "[9]\ttraining's l2: 432840\tvalid_1's l2: 439527\n",
      "[10]\ttraining's l2: 404435\tvalid_1's l2: 410547\n",
      "[11]\ttraining's l2: 377525\tvalid_1's l2: 383679\n",
      "[12]\ttraining's l2: 356569\tvalid_1's l2: 362763\n",
      "[13]\ttraining's l2: 339179\tvalid_1's l2: 345386\n",
      "[14]\ttraining's l2: 323057\tvalid_1's l2: 329337\n",
      "[15]\ttraining's l2: 308442\tvalid_1's l2: 314417\n",
      "[16]\ttraining's l2: 295102\tvalid_1's l2: 300974\n",
      "[17]\ttraining's l2: 284125\tvalid_1's l2: 289862\n",
      "[18]\ttraining's l2: 274986\tvalid_1's l2: 280619\n",
      "[19]\ttraining's l2: 267274\tvalid_1's l2: 272973\n",
      "[20]\ttraining's l2: 261091\tvalid_1's l2: 266656\n",
      "[21]\ttraining's l2: 253683\tvalid_1's l2: 259214\n",
      "[22]\ttraining's l2: 247130\tvalid_1's l2: 252588\n",
      "[23]\ttraining's l2: 241999\tvalid_1's l2: 247294\n",
      "[24]\ttraining's l2: 237481\tvalid_1's l2: 242590\n",
      "[25]\ttraining's l2: 234353\tvalid_1's l2: 239443\n",
      "[26]\ttraining's l2: 231417\tvalid_1's l2: 236448\n",
      "[27]\ttraining's l2: 227419\tvalid_1's l2: 232348\n",
      "[28]\ttraining's l2: 223972\tvalid_1's l2: 228898\n",
      "[29]\ttraining's l2: 221571\tvalid_1's l2: 226497\n",
      "[30]\ttraining's l2: 218731\tvalid_1's l2: 223643\n",
      "[31]\ttraining's l2: 216437\tvalid_1's l2: 221339\n",
      "[32]\ttraining's l2: 213715\tvalid_1's l2: 218675\n",
      "[33]\ttraining's l2: 211950\tvalid_1's l2: 216928\n",
      "[34]\ttraining's l2: 209502\tvalid_1's l2: 214483\n",
      "[35]\ttraining's l2: 207417\tvalid_1's l2: 212497\n",
      "[36]\ttraining's l2: 205923\tvalid_1's l2: 210951\n",
      "[37]\ttraining's l2: 204332\tvalid_1's l2: 209347\n",
      "[38]\ttraining's l2: 202049\tvalid_1's l2: 207037\n",
      "[39]\ttraining's l2: 200833\tvalid_1's l2: 205782\n",
      "[40]\ttraining's l2: 199680\tvalid_1's l2: 204605\n",
      "[41]\ttraining's l2: 198422\tvalid_1's l2: 203306\n",
      "[42]\ttraining's l2: 197191\tvalid_1's l2: 202031\n",
      "[43]\ttraining's l2: 195662\tvalid_1's l2: 200489\n",
      "[44]\ttraining's l2: 194265\tvalid_1's l2: 199092\n",
      "[45]\ttraining's l2: 193288\tvalid_1's l2: 198096\n",
      "[46]\ttraining's l2: 192072\tvalid_1's l2: 196898\n",
      "[47]\ttraining's l2: 190356\tvalid_1's l2: 195147\n",
      "[48]\ttraining's l2: 189577\tvalid_1's l2: 194472\n",
      "[49]\ttraining's l2: 188320\tvalid_1's l2: 193176\n",
      "[50]\ttraining's l2: 186565\tvalid_1's l2: 191359\n",
      "[51]\ttraining's l2: 185925\tvalid_1's l2: 190758\n",
      "[52]\ttraining's l2: 185054\tvalid_1's l2: 189901\n",
      "[53]\ttraining's l2: 184244\tvalid_1's l2: 189127\n",
      "[54]\ttraining's l2: 183347\tvalid_1's l2: 188288\n",
      "[55]\ttraining's l2: 182264\tvalid_1's l2: 187258\n",
      "[56]\ttraining's l2: 181607\tvalid_1's l2: 186567\n",
      "[57]\ttraining's l2: 181077\tvalid_1's l2: 186089\n",
      "[58]\ttraining's l2: 180283\tvalid_1's l2: 185304\n",
      "[59]\ttraining's l2: 179421\tvalid_1's l2: 184486\n",
      "[60]\ttraining's l2: 178516\tvalid_1's l2: 183576\n",
      "[61]\ttraining's l2: 177701\tvalid_1's l2: 182792\n",
      "[62]\ttraining's l2: 176747\tvalid_1's l2: 181836\n",
      "[63]\ttraining's l2: 175736\tvalid_1's l2: 180825\n",
      "[64]\ttraining's l2: 175226\tvalid_1's l2: 180328\n",
      "[65]\ttraining's l2: 174579\tvalid_1's l2: 179698\n",
      "[66]\ttraining's l2: 173940\tvalid_1's l2: 179097\n",
      "[67]\ttraining's l2: 173487\tvalid_1's l2: 178671\n",
      "[68]\ttraining's l2: 172422\tvalid_1's l2: 177612\n",
      "[69]\ttraining's l2: 172056\tvalid_1's l2: 177299\n",
      "[70]\ttraining's l2: 171233\tvalid_1's l2: 176460\n",
      "[71]\ttraining's l2: 170793\tvalid_1's l2: 176092\n",
      "[72]\ttraining's l2: 170499\tvalid_1's l2: 175846\n",
      "[73]\ttraining's l2: 169903\tvalid_1's l2: 175252\n",
      "[74]\ttraining's l2: 169579\tvalid_1's l2: 174952\n",
      "[75]\ttraining's l2: 169081\tvalid_1's l2: 174465\n",
      "[76]\ttraining's l2: 168600\tvalid_1's l2: 174019\n",
      "[77]\ttraining's l2: 168108\tvalid_1's l2: 173537\n",
      "[78]\ttraining's l2: 167917\tvalid_1's l2: 173378\n",
      "[79]\ttraining's l2: 167678\tvalid_1's l2: 173183\n",
      "[80]\ttraining's l2: 167261\tvalid_1's l2: 172807\n",
      "[81]\ttraining's l2: 166518\tvalid_1's l2: 172199\n",
      "[82]\ttraining's l2: 165882\tvalid_1's l2: 171558\n",
      "[83]\ttraining's l2: 165557\tvalid_1's l2: 171236\n",
      "[84]\ttraining's l2: 164509\tvalid_1's l2: 170190\n",
      "[85]\ttraining's l2: 163938\tvalid_1's l2: 169642\n",
      "[86]\ttraining's l2: 163583\tvalid_1's l2: 169354\n",
      "[87]\ttraining's l2: 163439\tvalid_1's l2: 169215\n",
      "[88]\ttraining's l2: 162756\tvalid_1's l2: 168568\n",
      "[89]\ttraining's l2: 162204\tvalid_1's l2: 168002\n",
      "[90]\ttraining's l2: 161452\tvalid_1's l2: 167248\n",
      "[91]\ttraining's l2: 161181\tvalid_1's l2: 167026\n",
      "[92]\ttraining's l2: 160385\tvalid_1's l2: 166232\n",
      "[93]\ttraining's l2: 159977\tvalid_1's l2: 165853\n",
      "[94]\ttraining's l2: 159447\tvalid_1's l2: 165339\n",
      "[95]\ttraining's l2: 159089\tvalid_1's l2: 164996\n",
      "[96]\ttraining's l2: 158790\tvalid_1's l2: 164739\n",
      "[97]\ttraining's l2: 158448\tvalid_1's l2: 164400\n",
      "[98]\ttraining's l2: 158103\tvalid_1's l2: 164063\n",
      "[99]\ttraining's l2: 157857\tvalid_1's l2: 163833\n",
      "[100]\ttraining's l2: 157524\tvalid_1's l2: 163512\n"
     ]
    }
   ],
   "source": [
    "model = lgbm.train(params,train_set=lgbm_train,valid_sets=[lgbm_train,lgbm_val])"
   ]
  },
  {
   "cell_type": "code",
   "execution_count": 13,
   "metadata": {},
   "outputs": [
    {
     "data": {
      "text/plain": [
       "array([1371,  619,  313,  256,  273,  168], dtype=int32)"
      ]
     },
     "execution_count": 13,
     "metadata": {},
     "output_type": "execute_result"
    }
   ],
   "source": [
    "model.feature_importance()"
   ]
  },
  {
   "cell_type": "markdown",
   "metadata": {},
   "source": [
    "## Prediction"
   ]
  },
  {
   "cell_type": "code",
   "execution_count": 14,
   "metadata": {},
   "outputs": [],
   "source": [
    "output = pd.DataFrame()"
   ]
  },
  {
   "cell_type": "code",
   "execution_count": 15,
   "metadata": {},
   "outputs": [],
   "source": [
    "output.index = df_test.index"
   ]
  },
  {
   "cell_type": "code",
   "execution_count": 16,
   "metadata": {},
   "outputs": [],
   "source": [
    "output[\"sales\"] = model.predict(df_test)"
   ]
  },
  {
   "cell_type": "code",
   "execution_count": 17,
   "metadata": {},
   "outputs": [
    {
     "data": {
      "text/html": [
       "<div>\n",
       "<style scoped>\n",
       "    .dataframe tbody tr th:only-of-type {\n",
       "        vertical-align: middle;\n",
       "    }\n",
       "\n",
       "    .dataframe tbody tr th {\n",
       "        vertical-align: top;\n",
       "    }\n",
       "\n",
       "    .dataframe thead th {\n",
       "        text-align: right;\n",
       "    }\n",
       "</style>\n",
       "<table border=\"1\" class=\"dataframe\">\n",
       "  <thead>\n",
       "    <tr style=\"text-align: right;\">\n",
       "      <th></th>\n",
       "      <th>sales</th>\n",
       "    </tr>\n",
       "    <tr>\n",
       "      <th>id</th>\n",
       "      <th></th>\n",
       "    </tr>\n",
       "  </thead>\n",
       "  <tbody>\n",
       "    <tr>\n",
       "      <th>3000888</th>\n",
       "      <td>3.092327</td>\n",
       "    </tr>\n",
       "    <tr>\n",
       "      <th>3000889</th>\n",
       "      <td>3.092327</td>\n",
       "    </tr>\n",
       "    <tr>\n",
       "      <th>3000890</th>\n",
       "      <td>40.481426</td>\n",
       "    </tr>\n",
       "    <tr>\n",
       "      <th>3000891</th>\n",
       "      <td>2191.735183</td>\n",
       "    </tr>\n",
       "    <tr>\n",
       "      <th>3000892</th>\n",
       "      <td>3.092327</td>\n",
       "    </tr>\n",
       "  </tbody>\n",
       "</table>\n",
       "</div>"
      ],
      "text/plain": [
       "               sales\n",
       "id                  \n",
       "3000888     3.092327\n",
       "3000889     3.092327\n",
       "3000890    40.481426\n",
       "3000891  2191.735183\n",
       "3000892     3.092327"
      ]
     },
     "execution_count": 17,
     "metadata": {},
     "output_type": "execute_result"
    }
   ],
   "source": [
    "output.head()"
   ]
  },
  {
   "cell_type": "code",
   "execution_count": 18,
   "metadata": {},
   "outputs": [],
   "source": [
    "output.to_csv(\"../submission.csv\")"
   ]
  }
 ],
 "metadata": {
  "kernelspec": {
   "display_name": "Python 3.8.10 ('.venv': poetry)",
   "language": "python",
   "name": "python3"
  },
  "language_info": {
   "codemirror_mode": {
    "name": "ipython",
    "version": 3
   },
   "file_extension": ".py",
   "mimetype": "text/x-python",
   "name": "python",
   "nbconvert_exporter": "python",
   "pygments_lexer": "ipython3",
   "version": "3.8.10"
  },
  "orig_nbformat": 4,
  "vscode": {
   "interpreter": {
    "hash": "a9d34e075e8f183b41a11b4745d42b22e54fbf03a94fb3eb116616453aed3ad7"
   }
  }
 },
 "nbformat": 4,
 "nbformat_minor": 2
}
