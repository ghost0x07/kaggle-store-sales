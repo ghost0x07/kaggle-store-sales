{
 "cells": [
  {
   "cell_type": "code",
   "execution_count": null,
   "metadata": {},
   "outputs": [],
   "source": []
  }
 ],
 "metadata": {
  "kernelspec": {
   "display_name": "Python 3.8.10 ('.venv': poetry)",
   "language": "python",
   "name": "python3"
  },
  "language_info": {
   "name": "python",
   "version": "3.8.10"
  },
  "orig_nbformat": 4,
  "vscode": {
   "interpreter": {
    "hash": "65eb9d4ec92aa88b44a4b37dc4511e9b7f6fcade989b2fecfcf8a0e4e9ad3d19"
   }
  }
 },
 "nbformat": 4,
 "nbformat_minor": 2
}
